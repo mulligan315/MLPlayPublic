{
  "nbformat": 4,
  "nbformat_minor": 0,
  "metadata": {
    "colab": {
      "provenance": [],
      "authorship_tag": "ABX9TyMmYMT0rJriaqgdY0eeT191",
      "include_colab_link": true
    },
    "kernelspec": {
      "name": "python3",
      "display_name": "Python 3"
    },
    "language_info": {
      "name": "python"
    }
  },
  "cells": [
    {
      "cell_type": "markdown",
      "metadata": {
        "id": "view-in-github",
        "colab_type": "text"
      },
      "source": [
        "<a href=\"https://colab.research.google.com/github/mulligan315/MLPlayPublic/blob/main/MyFirstML.ipynb\" target=\"_parent\"><img src=\"https://colab.research.google.com/assets/colab-badge.svg\" alt=\"Open In Colab\"/></a>"
      ]
    },
    {
      "cell_type": "markdown",
      "source": [
        "#Module 3"
      ],
      "metadata": {
        "id": "Yk7twYSPEXfi"
      }
    },
    {
      "cell_type": "code",
      "execution_count": 2,
      "metadata": {
        "id": "hBu3QrIoEQlw"
      },
      "outputs": [],
      "source": [
        "import pandas"
      ]
    },
    {
      "cell_type": "code",
      "source": [
        "filename='forestfires.csv'\n",
        "names = ['X','Y','month','day','FFMC','DMC','DC','ISI','temp','RH','wind','rain','area']"
      ],
      "metadata": {
        "id": "I0E0O8lGiYx6"
      },
      "execution_count": 3,
      "outputs": []
    },
    {
      "cell_type": "code",
      "source": [
        "df=pandas.read_csv(filename,names=names)\n",
        "print(pandas.isnull(df).sum())"
      ],
      "metadata": {
        "colab": {
          "base_uri": "https://localhost:8080/"
        },
        "id": "UdWztxj1jIAG",
        "outputId": "e338e33d-5bf0-4ade-b49c-e5d9ee722466"
      },
      "execution_count": 4,
      "outputs": [
        {
          "output_type": "stream",
          "name": "stdout",
          "text": [
            "X        0\n",
            "Y        0\n",
            "month    0\n",
            "day      0\n",
            "FFMC     0\n",
            "DMC      0\n",
            "DC       0\n",
            "ISI      0\n",
            "temp     0\n",
            "RH       0\n",
            "wind     0\n",
            "rain     0\n",
            "area     0\n",
            "dtype: int64\n"
          ]
        }
      ]
    },
    {
      "cell_type": "code",
      "source": [
        "import numpy\n",
        "import pandas\n"
      ],
      "metadata": {
        "id": "MwfZsGA1S81s"
      },
      "execution_count": 5,
      "outputs": []
    },
    {
      "cell_type": "code",
      "source": [
        "pandas.set_option('display.max_rows',500)\n",
        "pandas.set_option('display.max_columns',500)\n",
        "pandas.set_option('display.width',1000)\n"
      ],
      "metadata": {
        "id": "mbOIAy9wTJAP"
      },
      "execution_count": 8,
      "outputs": []
    },
    {
      "cell_type": "markdown",
      "source": [
        "##Descriptive Statistics"
      ],
      "metadata": {
        "id": "8PsIjEMaUVPS"
      }
    },
    {
      "cell_type": "code",
      "source": [
        "print(df.shape)"
      ],
      "metadata": {
        "colab": {
          "base_uri": "https://localhost:8080/"
        },
        "id": "4SANSWrkUccC",
        "outputId": "8d83241d-d610-465f-ed36-b152970e66a1"
      },
      "execution_count": 9,
      "outputs": [
        {
          "output_type": "stream",
          "name": "stdout",
          "text": [
            "(517, 13)\n"
          ]
        }
      ]
    },
    {
      "cell_type": "code",
      "source": [
        "print(df.dtypes)"
      ],
      "metadata": {
        "colab": {
          "base_uri": "https://localhost:8080/"
        },
        "id": "dZMbTw6YUtQh",
        "outputId": "506d02a6-d079-4af7-ef5c-5009581a90eb"
      },
      "execution_count": 10,
      "outputs": [
        {
          "output_type": "stream",
          "name": "stdout",
          "text": [
            "X          int64\n",
            "Y          int64\n",
            "month     object\n",
            "day       object\n",
            "FFMC     float64\n",
            "DMC      float64\n",
            "DC       float64\n",
            "ISI      float64\n",
            "temp     float64\n",
            "RH         int64\n",
            "wind     float64\n",
            "rain     float64\n",
            "area     float64\n",
            "dtype: object\n"
          ]
        }
      ]
    },
    {
      "cell_type": "code",
      "source": [
        "print(df.head())"
      ],
      "metadata": {
        "colab": {
          "base_uri": "https://localhost:8080/"
        },
        "id": "EB5LMXynU1Mw",
        "outputId": "246b03a4-96f4-402a-a8f0-aa92272ee193"
      },
      "execution_count": 11,
      "outputs": [
        {
          "output_type": "stream",
          "name": "stdout",
          "text": [
            "   X  Y month  day  FFMC   DMC     DC  ISI  temp  RH  wind  rain  area\n",
            "0  7  5   mar  fri  86.2  26.2   94.3  5.1   8.2  51   6.7   0.0   0.0\n",
            "1  7  4   oct  tue  90.6  35.4  669.1  6.7  18.0  33   0.9   0.0   0.0\n",
            "2  7  4   oct  sat  90.6  43.7  686.9  6.7  14.6  33   1.3   0.0   0.0\n",
            "3  8  6   mar  fri  91.7  33.3   77.5  9.0   8.3  97   4.0   0.2   0.0\n",
            "4  8  6   mar  sun  89.3  51.3  102.2  9.6  11.4  99   1.8   0.0   0.0\n"
          ]
        }
      ]
    },
    {
      "cell_type": "code",
      "source": [
        "print(df.describe())"
      ],
      "metadata": {
        "colab": {
          "base_uri": "https://localhost:8080/"
        },
        "id": "1JUG18pVU-Rq",
        "outputId": "c37868ea-34d2-46e8-b2d2-93dc2740a3c0"
      },
      "execution_count": 12,
      "outputs": [
        {
          "output_type": "stream",
          "name": "stdout",
          "text": [
            "                X           Y        FFMC         DMC          DC         ISI        temp          RH        wind        rain         area\n",
            "count  517.000000  517.000000  517.000000  517.000000  517.000000  517.000000  517.000000  517.000000  517.000000  517.000000   517.000000\n",
            "mean     4.669246    4.299807   90.644681  110.872340  547.940039    9.021663   18.889168   44.288201    4.017602    0.021663    12.847292\n",
            "std      2.313778    1.229900    5.520111   64.046482  248.066192    4.559477    5.806625   16.317469    1.791653    0.295959    63.655818\n",
            "min      1.000000    2.000000   18.700000    1.100000    7.900000    0.000000    2.200000   15.000000    0.400000    0.000000     0.000000\n",
            "25%      3.000000    4.000000   90.200000   68.600000  437.700000    6.500000   15.500000   33.000000    2.700000    0.000000     0.000000\n",
            "50%      4.000000    4.000000   91.600000  108.300000  664.200000    8.400000   19.300000   42.000000    4.000000    0.000000     0.520000\n",
            "75%      7.000000    5.000000   92.900000  142.400000  713.900000   10.800000   22.800000   53.000000    4.900000    0.000000     6.570000\n",
            "max      9.000000    9.000000   96.200000  291.300000  860.600000   56.100000   33.300000  100.000000    9.400000    6.400000  1090.840000\n"
          ]
        }
      ]
    },
    {
      "cell_type": "code",
      "source": [
        "print(df.corr(method='pearson'))\n"
      ],
      "metadata": {
        "colab": {
          "base_uri": "https://localhost:8080/"
        },
        "id": "Of4cIHQyX7RQ",
        "outputId": "9b6fd059-93e9-497a-9e90-4b6aed74bf2c"
      },
      "execution_count": 13,
      "outputs": [
        {
          "output_type": "stream",
          "name": "stdout",
          "text": [
            "             X         Y      FFMC       DMC        DC       ISI      temp        RH      wind      rain      area\n",
            "X     1.000000  0.539548 -0.021039 -0.048384 -0.085916  0.006210 -0.051258  0.085223  0.018798  0.065387  0.063385\n",
            "Y     0.539548  1.000000 -0.046308  0.007782 -0.101178 -0.024488 -0.024103  0.062221 -0.020341  0.033234  0.044873\n",
            "FFMC -0.021039 -0.046308  1.000000  0.382619  0.330512  0.531805  0.431532 -0.300995 -0.028485  0.056702  0.040122\n",
            "DMC  -0.048384  0.007782  0.382619  1.000000  0.682192  0.305128  0.469594  0.073795 -0.105342  0.074790  0.072994\n",
            "DC   -0.085916 -0.101178  0.330512  0.682192  1.000000  0.229154  0.496208 -0.039192 -0.203466  0.035861  0.049383\n",
            "ISI   0.006210 -0.024488  0.531805  0.305128  0.229154  1.000000  0.394287 -0.132517  0.106826  0.067668  0.008258\n",
            "temp -0.051258 -0.024103  0.431532  0.469594  0.496208  0.394287  1.000000 -0.527390 -0.227116  0.069491  0.097844\n",
            "RH    0.085223  0.062221 -0.300995  0.073795 -0.039192 -0.132517 -0.527390  1.000000  0.069410  0.099751 -0.075519\n",
            "wind  0.018798 -0.020341 -0.028485 -0.105342 -0.203466  0.106826 -0.227116  0.069410  1.000000  0.061119  0.012317\n",
            "rain  0.065387  0.033234  0.056702  0.074790  0.035861  0.067668  0.069491  0.099751  0.061119  1.000000 -0.007366\n",
            "area  0.063385  0.044873  0.040122  0.072994  0.049383  0.008258  0.097844 -0.075519  0.012317 -0.007366  1.000000\n"
          ]
        },
        {
          "output_type": "stream",
          "name": "stderr",
          "text": [
            "<ipython-input-13-52dee18fca7d>:1: FutureWarning: The default value of numeric_only in DataFrame.corr is deprecated. In a future version, it will default to False. Select only valid columns or specify the value of numeric_only to silence this warning.\n",
            "  print(df.corr(method='pearson'))\n"
          ]
        }
      ]
    },
    {
      "cell_type": "code",
      "source": [
        "df.month.replace(('jan','feb','mar','apr','may','jun','jul','aug','sep','oct','nov','dec'),(1,2,3,4,5,6,7,8,9,10,11,12),inplace=True)\n",
        "df.day.replace(('mon','tue','wed','thu','fri','sat','sun'),(1,2,3,4,5,6,7),inplace=True)"
      ],
      "metadata": {
        "id": "Jtbska-9ZE6a"
      },
      "execution_count": 15,
      "outputs": []
    },
    {
      "cell_type": "code",
      "source": [
        "print(df.head())"
      ],
      "metadata": {
        "colab": {
          "base_uri": "https://localhost:8080/"
        },
        "id": "21hCSJrBagGc",
        "outputId": "407dfc17-d5ac-4923-b5b9-dc1e873e666c"
      },
      "execution_count": 16,
      "outputs": [
        {
          "output_type": "stream",
          "name": "stdout",
          "text": [
            "   X  Y  month  day  FFMC   DMC     DC  ISI  temp  RH  wind  rain  area\n",
            "0  7  5      3    5  86.2  26.2   94.3  5.1   8.2  51   6.7   0.0   0.0\n",
            "1  7  4     10    2  90.6  35.4  669.1  6.7  18.0  33   0.9   0.0   0.0\n",
            "2  7  4     10    6  90.6  43.7  686.9  6.7  14.6  33   1.3   0.0   0.0\n",
            "3  8  6      3    5  91.7  33.3   77.5  9.0   8.3  97   4.0   0.2   0.0\n",
            "4  8  6      3    7  89.3  51.3  102.2  9.6  11.4  99   1.8   0.0   0.0\n"
          ]
        }
      ]
    }
  ]
}